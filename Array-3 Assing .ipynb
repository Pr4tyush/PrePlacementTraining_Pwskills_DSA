{
 "cells": [
  {
   "cell_type": "markdown",
   "id": "ae570ee3-0410-4bb9-99fb-f78c044b43f8",
   "metadata": {},
   "source": [
    "# Question 1\n",
    "# Given an integer array nums of length n and an integer target, find three integers\n",
    "# in nums such that the sum is closest to the target.\n",
    "# Return the sum of the three integers.\n",
    "\n",
    "# You may assume that each input would have exactly one solution.\n",
    "\n",
    "# Example 1:\n",
    "# Input: nums = [-1,2,1,-4], target = 1\n",
    "# Output: 2\n",
    "\n",
    "# Explanation: The sum that is closest to the target is 2. (-1 + 2 + 1 = 2)."
   ]
  },
  {
   "cell_type": "code",
   "execution_count": 2,
   "id": "0bb05770-25a5-42dd-8ac1-fbcf2ad61ddb",
   "metadata": {},
   "outputs": [
    {
     "name": "stdout",
     "output_type": "stream",
     "text": [
      "2\n"
     ]
    }
   ],
   "source": [
    "def threeSumClosest(nums, target):\n",
    "    nums.sort()  # Sort the array in ascending order\n",
    "    closestSum = float('inf')  # Initialize closestSum to a large value\n",
    "\n",
    "    for i in range(len(nums) - 2):\n",
    "        left = i + 1  # Pointer to the element next to the fixed number\n",
    "        right = len(nums) - 1  # Pointer to the last element of the array\n",
    "\n",
    "        while left < right:\n",
    "            currentSum = nums[i] + nums[left] + nums[right]\n",
    "\n",
    "            if currentSum == target:\n",
    "                return target  # Found an exact match\n",
    "\n",
    "            if abs(currentSum - target) < abs(closestSum - target):\n",
    "                closestSum = currentSum\n",
    "\n",
    "            if currentSum > target:\n",
    "                right -= 1  # Try a smaller number\n",
    "            else:\n",
    "                left += 1  # Try a larger number\n",
    "\n",
    "    return closestSum\n",
    "\n",
    "nums = [-1, 2, 1, -4]\n",
    "target = 1\n",
    "\n",
    "result = threeSumClosest(nums, target)\n",
    "print(result)  # Output: 2\n"
   ]
  },
  {
   "cell_type": "markdown",
   "id": "1e450704-00e5-48c7-b410-ebb529de8c6f",
   "metadata": {},
   "source": [
    "# Question 2\n",
    "# Given an array nums of n integers, return an array of all the unique quadruplets\n",
    " # [nums[a], nums[b], nums[c], nums[d]] such that:\n",
    "   #        ● 0 <= a, b, c, d < n ● a, b, c, and d are distinct. ● nums[a] + nums[b] + nums[c] + nums[d] == target\n",
    "\n",
    "# You may return the answer in any order.\n",
    "\n",
    "# Example 1:\n",
    "# Input: nums = [1,0,-1,0,-2,2], target = 0\n",
    "# Output: [[-2,-1,1,2],[-2,0,0,2],[-1,0,0,1]]"
   ]
  },
  {
   "cell_type": "markdown",
   "id": "61e97324-2649-4e81-91b1-0acf7194430e",
   "metadata": {},
   "source": [
    "\n",
    "# Question 3**\n",
    "# A permutation of an array of integers is an arrangement of its members into a sequence or linear order.\n",
    "\n",
    "# For example, for arr = [1,2,3], the following are all the permutations of arr:\n",
    "[1,2,3], [1,3,2], [2, 1, 3], [2, 3, 1], [3,1,2], [3,2,1].\n",
    "\n",
    "# The next permutation of an array of integers is the next lexicographically greater\n",
    "# permutation of its integer. More formally, if all the permutations of the array are\n",
    "# sorted in one container according to their lexicographical order, then the next\n",
    "# permutation of that array is the permutation that follows it in the sorted container.\n",
    "\n",
    "# If such an arrangement is not possible, the array must be rearranged as the\n",
    "# lowest possible order (i.e., sorted in ascending order).\n",
    "\n",
    "# ● For example, the next permutation of arr = [1,2,3] is [1,3,2].\n",
    "# ● Similarly, the next permutation of arr = [2,3,1] is [3,1,2].\n",
    "# ● While the next permutation of arr = [3,2,1] is [1,2,3] because [3,2,1] does not\n",
    "# have a lexicographical larger rearrangement.\n",
    "\n",
    "# Given an array of integers nums, find the next permutation of nums.\n",
    "# The replacement must be in place and use only constant extra memory.\n",
    "\n",
    "# Example 1:\n",
    "# Input: nums = [1,2,3]\n",
    "# Output: [1,3,2]\n",
    "\n"
   ]
  },
  {
   "cell_type": "code",
   "execution_count": 3,
   "id": "280ef574-d487-4055-87ef-b50af77f9d14",
   "metadata": {},
   "outputs": [
    {
     "name": "stdout",
     "output_type": "stream",
     "text": [
      "[1, 3, 2]\n"
     ]
    }
   ],
   "source": [
    "def nextPermutation(nums):\n",
    "    # Step 1: Find the first pair of adjacent elements in reverse order\n",
    "    i = len(nums) - 2\n",
    "    while i >= 0 and nums[i] >= nums[i + 1]:\n",
    "        i -= 1\n",
    "\n",
    "    if i == -1:\n",
    "        # Step 2: If no pair is found, reverse the entire array\n",
    "        nums.reverse()\n",
    "    else:\n",
    "        # Step 3: Find the rightmost element greater than nums[i]\n",
    "        j = len(nums) - 1\n",
    "        while j > i and nums[j] <= nums[i]:\n",
    "            j -= 1\n",
    "\n",
    "        # Step 4: Swap nums[i] with nums[j]\n",
    "        nums[i], nums[j] = nums[j], nums[i]\n",
    "\n",
    "        # Step 5: Reverse the sublist nums[i+1:]\n",
    "        left = i + 1\n",
    "        right = len(nums) - 1\n",
    "        while left < right:\n",
    "            nums[left], nums[right] = nums[right], nums[left]\n",
    "            left += 1\n",
    "            right -= 1\n",
    "\n",
    "    return nums\n",
    "nums = [1, 2, 3]\n",
    "\n",
    "result = nextPermutation(nums)\n",
    "print(result)  # Output: [1, 3, 2]\n"
   ]
  },
  {
   "cell_type": "markdown",
   "id": "c20d50f3-9e14-480d-9fe7-ad85d17a3ccc",
   "metadata": {},
   "source": [
    "# Question 4\n",
    "# Given a sorted array of distinct integers and a target value, return the index if the\n",
    "# target is found. If not, return the index where it would be if it were inserted in order.\n",
    "\n",
    "# You must write an algorithm with O(log n) runtime complexity.\n",
    "\n",
    "# Example 1:\n",
    "# Input: nums = [1,3,5,6], target = 5\n",
    "# Output: 2"
   ]
  },
  {
   "cell_type": "code",
   "execution_count": 4,
   "id": "2dc0eb13-5407-4b80-8a4a-8213d8fbb542",
   "metadata": {},
   "outputs": [
    {
     "name": "stdout",
     "output_type": "stream",
     "text": [
      "2\n"
     ]
    }
   ],
   "source": [
    "def searchInsert(nums, target):\n",
    "    left = 0\n",
    "    right = len(nums) - 1\n",
    "\n",
    "    while left <= right:\n",
    "        mid = left + (right - left) // 2\n",
    "\n",
    "        if nums[mid] == target:\n",
    "            return mid\n",
    "        elif nums[mid] < target:\n",
    "            left = mid + 1\n",
    "        else:\n",
    "            right = mid - 1\n",
    "\n",
    "    return left\n",
    "nums = [1, 3, 5, 6]\n",
    "target = 5\n",
    "\n",
    "result = searchInsert(nums, target)\n",
    "print(result)  # Output: 2\n"
   ]
  },
  {
   "cell_type": "markdown",
   "id": "009de12f-e2cf-47d0-970e-ce8c08166c31",
   "metadata": {},
   "source": [
    "\n",
    "# Question 5\n",
    "# You are given a large integer represented as an integer array digits, where each\n",
    "# digits[i] is the ith digit of the integer. The digits are ordered from most significant\n",
    "# to least significant in left-to-right order. The large integer does not contain any\n",
    "# leading 0's.\n",
    "\n",
    "# Increment the large integer by one and return the resulting array of digits.\n",
    "\n",
    "# Example 1:\n",
    "# Input: digits = [1,2,3]\n",
    "# Output: [1,2,4]\n",
    "# Explanation:** The array represents the integer 123.\n",
    "\n",
    "# Incrementing by one gives 123 + 1 = 124.\n",
    "# Thus, the result should be [1,2,4].\n",
    "\n"
   ]
  },
  {
   "cell_type": "code",
   "execution_count": 5,
   "id": "fc6a97b7-564f-421c-be88-8d9c1c8c72e8",
   "metadata": {},
   "outputs": [
    {
     "name": "stdout",
     "output_type": "stream",
     "text": [
      "[1, 2, 4]\n"
     ]
    }
   ],
   "source": [
    "def plusOne(digits):\n",
    "    n = len(digits)\n",
    "    carry = 1\n",
    "\n",
    "    for i in range(n - 1, -1, -1):\n",
    "        digits[i] += carry\n",
    "\n",
    "        if digits[i] < 10:\n",
    "            return digits\n",
    "\n",
    "        digits[i] = 0\n",
    "        carry = 1\n",
    "\n",
    "    # If there is a carry left after iterating through all the digits\n",
    "    result = [0] * (n + 1)\n",
    "    result[0] = 1\n",
    "    result[1:] = digits\n",
    "\n",
    "    return result\n",
    "digits = [1, 2, 3]\n",
    "\n",
    "result = plusOne(digits)\n",
    "print(result)  # Output: [1, 2, 4]\n"
   ]
  },
  {
   "cell_type": "markdown",
   "id": "649aa2e1-c964-4c2a-95fc-351286b52743",
   "metadata": {},
   "source": [
    "# Question 6\n",
    "# Given a non-empty array of integers nums, every element appears twice except\n",
    "# for one. Find that single one.\n",
    "\n",
    "# You must implement a solution with a linear runtime complexity and use only constant extra space.\n",
    "\n",
    "# Example 1:\n",
    "# Input: nums = [2,2,1]\n",
    "# Output: 1"
   ]
  },
  {
   "cell_type": "code",
   "execution_count": 6,
   "id": "a46fe93a-2fb7-418f-abeb-c73fe8e0a492",
   "metadata": {},
   "outputs": [
    {
     "name": "stdout",
     "output_type": "stream",
     "text": [
      "1\n"
     ]
    }
   ],
   "source": [
    "def singleNumber(nums):\n",
    "    result = 0\n",
    "\n",
    "    for num in nums:\n",
    "        result ^= num\n",
    "\n",
    "    return result\n",
    "nums = [2, 2, 1]\n",
    "\n",
    "result = singleNumber(nums)\n",
    "print(result)  # Output: 1\n"
   ]
  },
  {
   "cell_type": "markdown",
   "id": "9fbec9c6-3ce5-4385-b53e-ca8fcdbcf05f",
   "metadata": {},
   "source": [
    "# Question 7\n",
    "# You are given an inclusive range [lower, upper] and a sorted unique integer array\n",
    "# nums, where all elements are within the inclusive range.\n",
    "\n",
    "# A number x is considered missing if x is in the range [lower, upper] and x is not in nums.\n",
    "\n",
    "# Return the shortest sorted list of ranges that exactly covers all the missing\n",
    "# numbers. That is, no element of nums is included in any of the ranges, and each\n",
    "# missing number is covered by one of the ranges.\n",
    "\n",
    "# Example 1:\n",
    "# Input: nums = [0,1,3,50,75], lower = 0, upper = 99\n",
    "# Output: [[2,2],[4,49],[51,74],[76,99]]\n",
    "\n",
    "# Explanation: The ranges are:\n",
    "[2,2]\n",
    "[4,49]\n",
    "[51,74]\n",
    "[76,99]"
   ]
  },
  {
   "cell_type": "code",
   "execution_count": 7,
   "id": "55e5d93e-ade7-4a39-bd6d-87b428077c83",
   "metadata": {},
   "outputs": [
    {
     "name": "stdout",
     "output_type": "stream",
     "text": [
      "['2', '4->49', '51->74', '76->99']\n"
     ]
    }
   ],
   "source": [
    "def findMissingRanges(nums, lower, upper):\n",
    "    result = []\n",
    "    start = lower\n",
    "\n",
    "    for num in nums + [upper + 1]:\n",
    "        if num > start:\n",
    "            if num - start == 1:\n",
    "                result.append(str(start))\n",
    "            else:\n",
    "                result.append(str(start) + \"->\" + str(num - 1))\n",
    "        start = num + 1\n",
    "\n",
    "    return result\n",
    "nums = [0, 1, 3, 50, 75]\n",
    "lower = 0\n",
    "upper = 99\n",
    "\n",
    "result = findMissingRanges(nums, lower, upper)\n",
    "print(result)  # Output: ['2', '4->49', '51->74', '76->99']\n"
   ]
  },
  {
   "cell_type": "markdown",
   "id": "0853bd08-d795-4267-838e-0cb6719c508b",
   "metadata": {},
   "source": [
    "\n",
    "# Question 8\n",
    "# Given an array of meeting time intervals where intervals[i] = [starti, endi],\n",
    "# determine if a person could attend all meetings.\n",
    "\n",
    "# Example 1:**\n",
    "# Input: intervals = [[0,30],[5,10],[15,20]]\n",
    "# Output: false"
   ]
  },
  {
   "cell_type": "code",
   "execution_count": 8,
   "id": "e079a357-c505-48b3-b7f0-20d40ff523c9",
   "metadata": {},
   "outputs": [
    {
     "name": "stdout",
     "output_type": "stream",
     "text": [
      "False\n"
     ]
    }
   ],
   "source": [
    "def canAttendMeetings(intervals):\n",
    "    intervals.sort(key=lambda x: x[0])  # Sort intervals based on start time\n",
    "\n",
    "    for i in range(1, len(intervals)):\n",
    "        if intervals[i][0] < intervals[i-1][1]:\n",
    "            return False\n",
    "\n",
    "    return True\n",
    "intervals = [[0, 30], [5, 10], [15, 20]]\n",
    "\n",
    "result = canAttendMeetings(intervals)\n",
    "print(result)  # Output: False\n"
   ]
  }
 ],
 "metadata": {
  "kernelspec": {
   "display_name": "Python 3 (ipykernel)",
   "language": "python",
   "name": "python3"
  },
  "language_info": {
   "codemirror_mode": {
    "name": "ipython",
    "version": 3
   },
   "file_extension": ".py",
   "mimetype": "text/x-python",
   "name": "python",
   "nbconvert_exporter": "python",
   "pygments_lexer": "ipython3",
   "version": "3.10.8"
  }
 },
 "nbformat": 4,
 "nbformat_minor": 5
}
